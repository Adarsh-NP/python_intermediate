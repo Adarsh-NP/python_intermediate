{
 "cells": [
  {
   "cell_type": "markdown",
   "metadata": {},
   "source": [
    "star unpacking while iterating over a sequence of tuples of varying length\n"
   ]
  },
  {
   "cell_type": "code",
   "execution_count": 4,
   "metadata": {},
   "outputs": [],
   "source": [
    "records = [\n",
    "    ('foo', 1, 2),\n",
    "    ('bar', 'hello'),\n",
    "    ('foo', 3, 4)\n",
    "]"
   ]
  },
  {
   "cell_type": "code",
   "execution_count": 6,
   "metadata": {},
   "outputs": [],
   "source": [
    "def do_foo(x, y):\n",
    "    print('foo', x, y)"
   ]
  },
  {
   "cell_type": "code",
   "execution_count": 17,
   "metadata": {},
   "outputs": [
    {
     "name": "stdout",
     "output_type": "stream",
     "text": [
      "foo 1 2\n"
     ]
    }
   ],
   "source": [
    "do_foo(1,2)"
   ]
  },
  {
   "cell_type": "code",
   "execution_count": 18,
   "metadata": {},
   "outputs": [],
   "source": [
    "def do_bar(s):\n",
    "    print('bar', s)"
   ]
  },
  {
   "cell_type": "code",
   "execution_count": 20,
   "metadata": {},
   "outputs": [
    {
     "name": "stdout",
     "output_type": "stream",
     "text": [
      "foo 1 2\n",
      "bar hello\n",
      "foo 3 4\n"
     ]
    }
   ],
   "source": [
    "for tag, *args in records:\n",
    "    if tag == 'foo':\n",
    "        do_foo(*args)\n",
    "    elif tag == 'bar':\n",
    "        do_bar(*args)"
   ]
  },
  {
   "cell_type": "markdown",
   "metadata": {},
   "source": [
    "as we can see in the above example the first element of the list of tuples is the tag and others are *args due to star unpacking "
   ]
  },
  {
   "cell_type": "markdown",
   "metadata": {},
   "source": [
    "star unpacking in string processing like splitting lets say"
   ]
  },
  {
   "cell_type": "code",
   "execution_count": 21,
   "metadata": {},
   "outputs": [],
   "source": [
    "line = 'nobody:*:-2:-2:Unprivileged user:/var/empty:/usr/bin/false'\n",
    "uname, *fields, homedir, sh = line.split(\":\")"
   ]
  },
  {
   "cell_type": "code",
   "execution_count": 24,
   "metadata": {},
   "outputs": [
    {
     "data": {
      "text/plain": [
       "('nobody', '/var/empty', '/usr/bin/false')"
      ]
     },
     "execution_count": 24,
     "metadata": {},
     "output_type": "execute_result"
    }
   ],
   "source": [
    "uname, homedir, sh #see how easy it can be to extract data "
   ]
  },
  {
   "cell_type": "markdown",
   "metadata": {},
   "source": [
    "extracting only some of the data from the string let's say"
   ]
  },
  {
   "cell_type": "code",
   "execution_count": 25,
   "metadata": {},
   "outputs": [],
   "source": [
    "record = ('ACME', 50, 123.45, (12, 18, 2012))\n",
    "name, *_, (*_, year) = record"
   ]
  },
  {
   "cell_type": "code",
   "execution_count": 26,
   "metadata": {},
   "outputs": [
    {
     "data": {
      "text/plain": [
       "('ACME', 2012)"
      ]
     },
     "execution_count": 26,
     "metadata": {},
     "output_type": "execute_result"
    }
   ],
   "source": [
    "name, year #notice how it ignored the data points named *_"
   ]
  },
  {
   "cell_type": "markdown",
   "metadata": {},
   "source": [
    "nice example how it can be used in some recursive function"
   ]
  },
  {
   "cell_type": "code",
   "execution_count": 29,
   "metadata": {},
   "outputs": [],
   "source": [
    "items = [1, 10, 4, 7, 5, 9] #a list requires to be spaced by commas remeber this"
   ]
  },
  {
   "cell_type": "code",
   "execution_count": 30,
   "metadata": {},
   "outputs": [],
   "source": [
    "head, *tail = items"
   ]
  },
  {
   "cell_type": "code",
   "execution_count": 32,
   "metadata": {},
   "outputs": [
    {
     "data": {
      "text/plain": [
       "(1, [10, 4, 7, 5, 9])"
      ]
     },
     "execution_count": 32,
     "metadata": {},
     "output_type": "execute_result"
    }
   ],
   "source": [
    "head, tail #notice how it generated tuple of the data"
   ]
  },
  {
   "cell_type": "code",
   "execution_count": 44,
   "metadata": {},
   "outputs": [],
   "source": [
    "def sum(items):\n",
    "    head, *tail = items\n",
    "    if tail:\n",
    "        return head + sum(tail) \n",
    "    else:\n",
    "        return head\n",
    "    \n",
    "    #short way of writing this would be return head + sum(tail) if tail else head\n",
    "    "
   ]
  },
  {
   "cell_type": "code",
   "execution_count": 45,
   "metadata": {},
   "outputs": [
    {
     "data": {
      "text/plain": [
       "36"
      ]
     },
     "execution_count": 45,
     "metadata": {},
     "output_type": "execute_result"
    }
   ],
   "source": [
    "sum(items)"
   ]
  },
  {
   "cell_type": "markdown",
   "metadata": {},
   "source": [
    "what the above function does is it iteratively calls itself and takes tail as the input from second iteration onwards which decreases the length of tail and when tail finally reaches zero the program terminates"
   ]
  },
  {
   "cell_type": "markdown",
   "metadata": {},
   "source": [
    "execution:\n",
    "1 + sum([10, 4, 7, 5, 9])\n",
    "10 + sum([4, 7, 5, 9])\n",
    "4 + sum([7,5, 9])\n",
    "7 + sum([5, 9])\n",
    "5 + sum([9])\n",
    "9 + sum([])\n",
    "now since the tail is empty \n",
    "it'll return 9 as sum\n",
    "9+5 \n",
    "9+5+7\n",
    "9+5+7+5\n",
    "9+5+7+5+10\n",
    "9+5+7+5+10+1 = 36 final output\n",
    "\n"
   ]
  },
  {
   "cell_type": "markdown",
   "metadata": {},
   "source": [
    "deque, and collections library in python "
   ]
  },
  {
   "cell_type": "markdown",
   "metadata": {},
   "source": [
    "this is helpful when we want a limited history of what has happened:\n",
    "    for example suppose you're runnng a website and want to display some of the last activities of the user but only some"
   ]
  },
  {
   "cell_type": "code",
   "execution_count": 47,
   "metadata": {},
   "outputs": [],
   "source": [
    "from collections import deque"
   ]
  },
  {
   "cell_type": "code",
   "execution_count": 48,
   "metadata": {},
   "outputs": [],
   "source": [
    "def search(lines, pattern, history=5):\n",
    "    previous_lines = deque(maxlen = history)\n",
    "    for line in lines:\n",
    "        if pattern in line:\n",
    "            yield line, previous_lines\n",
    "        previous_lines.append(line)"
   ]
  },
  {
   "cell_type": "raw",
   "metadata": {},
   "source": [
    "refer to the code in the folder\n"
   ]
  }
 ],
 "metadata": {
  "kernelspec": {
   "display_name": "Python 3",
   "language": "python",
   "name": "python3"
  },
  "language_info": {
   "codemirror_mode": {
    "name": "ipython",
    "version": 3
   },
   "file_extension": ".py",
   "mimetype": "text/x-python",
   "name": "python",
   "nbconvert_exporter": "python",
   "pygments_lexer": "ipython3",
   "version": "3.7.5"
  }
 },
 "nbformat": 4,
 "nbformat_minor": 4
}
